{
 "cells": [
  {
   "cell_type": "code",
   "execution_count": 95,
   "metadata": {},
   "outputs": [],
   "source": [
    "import numpy as np\n",
    "import matplotlib.pyplot as plt\n",
    "from qiskit import QuantumCircuit, QuantumRegister, ClassicalRegister\n",
    "from qreservoirpy import utilities\n",
    "\n",
    "from qiskit import Aer\n",
    "backend = Aer.get_backend('qasm_simulator')\n",
    "from qiskit.circuit.library.standard_gates import HGate, SGate, CXGate, IGate\n",
    "\n",
    "import tikzplotlib\n",
    "\n",
    "import warnings\n",
    "warnings.filterwarnings('ignore')\n"
   ]
  },
  {
   "cell_type": "code",
   "execution_count": 115,
   "metadata": {},
   "outputs": [
    {
     "data": {
      "image/png": "[encoded data removed]",
      "text/plain": [
       "<Figure size 454.719x367.889 with 1 Axes>"
      ]
     },
     "execution_count": 115,
     "metadata": {},
     "output_type": "execute_result"
    }
   ],
   "source": [
    "n_qubits = 4\n",
    "SHOTS = 100000\n",
    "timeseries = [0, 1, 0, 1, 1] * 5\n",
    "encoder = {\n",
    "    0: '000',\n",
    "    1: '010',\n",
    "    2: '100',\n",
    "} \n",
    "\n",
    "\n",
    "\n",
    "circop = QuantumCircuit(n_qubits)\n",
    "# circop.initialize('001', circop.qubits)\n",
    "for i in range(1, n_qubits - 1):\n",
    "    circop.h(i)\n",
    "for i in range(n_qubits-1):\n",
    "    circop.cx(i, n_qubits-1)\n",
    "\n",
    "circop.h(0)\n",
    "circop.draw('mpl')\n",
    "\n",
    "\n",
    "\n"
   ]
  },
  {
   "cell_type": "code",
   "execution_count": 111,
   "metadata": {},
   "outputs": [
    {
     "name": "stdout",
     "output_type": "stream",
     "text": [
      "state 000: result= [25012 24839 25120 25029]\n",
      "state 010: result= [24963 24913 25088 25036]\n",
      "state 100: result= [25109 24881 25019 24991]\n"
     ]
    }
   ],
   "source": [
    "\n",
    "# circop = utilities.random_circuit(3, gates=[\n",
    "#     CXGate, HGate#,HGate, SGate #, TGate\n",
    "# ], depth=4)\n",
    "\n",
    "\n",
    "\n",
    "\n",
    "\n",
    "for i in range(3):\n",
    "    circ = QuantumCircuit(3, 2)\n",
    "    circ.initialize(encoder[i], circ.qubits)\n",
    "\n",
    "    circ = circ.compose(circop)\n",
    "    # circ.append(OP, circ.qubits)\n",
    "    circ.measure([0, 1], [0, 1])\n",
    "    job = backend.run(circ, shots=SHOTS).result()\n",
    "    counts = job.get_counts()\n",
    "    vec = np.zeros(4, dtype=np.int32)\n",
    "    vec[0] = counts.get('00', 0)\n",
    "    vec[1] = counts.get('01', 0)\n",
    "    vec[2] = counts.get('10', 0)\n",
    "    vec[3] = counts.get('11', 0)\n",
    "    print(f'state {encoder[i]}: result= {vec}')\n",
    "\n",
    "\n",
    "# circ.append(OP, circ.qubits)\n",
    "# circ.draw('mpl')"
   ]
  },
  {
   "cell_type": "code",
   "execution_count": 107,
   "metadata": {},
   "outputs": [
    {
     "data": {
      "image/png": "[encoded data removed]",
      "text/plain": [
       "<Figure size 538.33x284.278 with 1 Axes>"
      ]
     },
     "execution_count": 107,
     "metadata": {},
     "output_type": "execute_result"
    }
   ],
   "source": [
    "circop.draw('mpl')"
   ]
  },
  {
   "cell_type": "code",
   "execution_count": 99,
   "metadata": {},
   "outputs": [
    {
     "ename": "QiskitError",
     "evalue": "'StatePreparation parameter vector has 8 elements, therefore expects 3 qubits. However, 2 were provided.'",
     "output_type": "error",
     "traceback": [
      "\u001b[1;31m---------------------------------------------------------------------------\u001b[0m",
      "\u001b[1;31mQiskitError\u001b[0m                               Traceback (most recent call last)",
      "Cell \u001b[1;32mIn[99], line 4\u001b[0m\n\u001b[0;32m      2\u001b[0m \u001b[39mfor\u001b[39;00m i \u001b[39min\u001b[39;00m \u001b[39mrange\u001b[39m(\u001b[39m4\u001b[39m):\n\u001b[0;32m      3\u001b[0m     circ \u001b[39m=\u001b[39m QuantumCircuit(\u001b[39m3\u001b[39m, \u001b[39m2\u001b[39m)\n\u001b[1;32m----> 4\u001b[0m     circ\u001b[39m.\u001b[39;49minitialize(encoder[i], \u001b[39mrange\u001b[39;49m(\u001b[39m2\u001b[39;49m))\n\u001b[0;32m      6\u001b[0m     circ \u001b[39m=\u001b[39m circ\u001b[39m.\u001b[39mcompose(circop)\n\u001b[0;32m      7\u001b[0m     circ\u001b[39m.\u001b[39minitialize(encoder[j], \u001b[39mrange\u001b[39m(\u001b[39m2\u001b[39m))\n",
      "File \u001b[1;32mc:\\Users\\otkul\\sintef\\repo\\quantumRC\\quantum\\lib\\site-packages\\qiskit\\extensions\\quantum_initializer\\initializer.py:191\u001b[0m, in \u001b[0;36minitialize\u001b[1;34m(self, params, qubits)\u001b[0m\n\u001b[0;32m    188\u001b[0m     qubits \u001b[39m=\u001b[39m [qubits]\n\u001b[0;32m    189\u001b[0m num_qubits \u001b[39m=\u001b[39m \u001b[39mlen\u001b[39m(qubits) \u001b[39mif\u001b[39;00m \u001b[39misinstance\u001b[39m(params, \u001b[39mint\u001b[39m) \u001b[39melse\u001b[39;00m \u001b[39mNone\u001b[39;00m\n\u001b[1;32m--> 191\u001b[0m \u001b[39mreturn\u001b[39;00m \u001b[39mself\u001b[39;49m\u001b[39m.\u001b[39;49mappend(Initialize(params, num_qubits), qubits)\n",
      "File \u001b[1;32mc:\\Users\\otkul\\sintef\\repo\\quantumRC\\quantum\\lib\\site-packages\\qiskit\\circuit\\quantumcircuit.py:1313\u001b[0m, in \u001b[0;36mQuantumCircuit.append\u001b[1;34m(self, instruction, qargs, cargs)\u001b[0m\n\u001b[0;32m   1311\u001b[0m instructions \u001b[39m=\u001b[39m InstructionSet(resource_requester\u001b[39m=\u001b[39mrequester)\n\u001b[0;32m   1312\u001b[0m \u001b[39mif\u001b[39;00m \u001b[39misinstance\u001b[39m(operation, Instruction):\n\u001b[1;32m-> 1313\u001b[0m     \u001b[39mfor\u001b[39;00m qarg, carg \u001b[39min\u001b[39;00m operation\u001b[39m.\u001b[39mbroadcast_arguments(expanded_qargs, expanded_cargs):\n\u001b[0;32m   1314\u001b[0m         \u001b[39mself\u001b[39m\u001b[39m.\u001b[39m_check_dups(qarg)\n\u001b[0;32m   1315\u001b[0m         instruction \u001b[39m=\u001b[39m CircuitInstruction(operation, qarg, carg)\n",
      "File \u001b[1;32mc:\\Users\\otkul\\sintef\\repo\\quantumRC\\quantum\\lib\\site-packages\\qiskit\\circuit\\library\\data_preparation\\state_preparation.py:220\u001b[0m, in \u001b[0;36mStatePreparation.broadcast_arguments\u001b[1;34m(self, qargs, cargs)\u001b[0m\n\u001b[0;32m    217\u001b[0m flat_qargs \u001b[39m=\u001b[39m [qarg \u001b[39mfor\u001b[39;00m sublist \u001b[39min\u001b[39;00m qargs \u001b[39mfor\u001b[39;00m qarg \u001b[39min\u001b[39;00m sublist]\n\u001b[0;32m    219\u001b[0m \u001b[39mif\u001b[39;00m \u001b[39mself\u001b[39m\u001b[39m.\u001b[39mnum_qubits \u001b[39m!=\u001b[39m \u001b[39mlen\u001b[39m(flat_qargs):\n\u001b[1;32m--> 220\u001b[0m     \u001b[39mraise\u001b[39;00m QiskitError(\n\u001b[0;32m    221\u001b[0m         \u001b[39m\"\u001b[39m\u001b[39mStatePreparation parameter vector has \u001b[39m\u001b[39m%d\u001b[39;00m\u001b[39m elements, therefore expects \u001b[39m\u001b[39m%s\u001b[39;00m\u001b[39m \u001b[39m\u001b[39m\"\u001b[39m\n\u001b[0;32m    222\u001b[0m         \u001b[39m\"\u001b[39m\u001b[39mqubits. However, \u001b[39m\u001b[39m%s\u001b[39;00m\u001b[39m were provided.\u001b[39m\u001b[39m\"\u001b[39m\n\u001b[0;32m    223\u001b[0m         \u001b[39m%\u001b[39m (\u001b[39m2\u001b[39m\u001b[39m*\u001b[39m\u001b[39m*\u001b[39m\u001b[39mself\u001b[39m\u001b[39m.\u001b[39mnum_qubits, \u001b[39mself\u001b[39m\u001b[39m.\u001b[39mnum_qubits, \u001b[39mlen\u001b[39m(flat_qargs))\n\u001b[0;32m    224\u001b[0m     )\n\u001b[0;32m    225\u001b[0m \u001b[39myield\u001b[39;00m flat_qargs, []\n",
      "\u001b[1;31mQiskitError\u001b[0m: 'StatePreparation parameter vector has 8 elements, therefore expects 3 qubits. However, 2 were provided.'"
     ]
    }
   ],
   "source": [
    "for j in range(4):\n",
    "    for i in range(4):\n",
    "        circ = QuantumCircuit(3, 2)\n",
    "        circ.initialize(encoder[i], range(2))\n",
    "\n",
    "        circ = circ.compose(circop)\n",
    "        circ.initialize(encoder[j], range(2))\n",
    "        circ = circ.compose(circop)\n",
    "        # circ.append(OP, circ.qubits)\n",
    "        circ.measure([0, 1], [0, 1]) \n",
    "        job = backend.run(circ, shots=10000).result()\n",
    "        vec = np.zeros(4, dtype=np.int32)\n",
    "\n",
    "        counts = job.get_counts()\n",
    "        vec[0] = counts.get('00', 0)\n",
    "        vec[1] = counts.get('01', 0)\n",
    "        vec[2] = counts.get('10', 0)\n",
    "        vec[3] = counts.get('11', 0)\n",
    "        print(f'state {encoder[i]} {encoder[j]}: result= {vec}')"
   ]
  }
 ],
 "metadata": {
  "kernelspec": {
   "display_name": "quantum",
   "language": "python",
   "name": "python3"
  },
  "language_info": {
   "codemirror_mode": {
    "name": "ipython",
    "version": 3
   },
   "file_extension": ".py",
   "mimetype": "text/x-python",
   "name": "python",
   "nbconvert_exporter": "python",
   "pygments_lexer": "ipython3",
   "version": "3.9.13"
  },
  "orig_nbformat": 4
 },
 "nbformat": 4,
 "nbformat_minor": 2
}

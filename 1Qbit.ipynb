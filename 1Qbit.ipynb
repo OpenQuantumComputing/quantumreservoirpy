{
 "cells": [
  {
   "cell_type": "code",
   "execution_count": null,
   "id": "cc1356ba",
   "metadata": {},
   "outputs": [],
   "source": [
    "import numpy as np\n",
    "from qiskit import QuantumCircuit, transpile, execute\n",
    "from qiskit.quantum_info.operators import Operator, Pauli\n",
    "import qiskit\n",
    "from qiskit.extensions import HamiltonianGate, Initialize\n",
    "from qiskit.visualization import plot_state_city, plot_histogram\n",
    "from qiskit import quantum_info\n",
    "from qiskit.quantum_info import Statevector, random_unitary, random_hermitian\n",
    "from qiskit.circuit.library import PauliEvolutionGate\n",
    "from qiskit import Aer\n",
    "from tqdm import tqdm \n",
    "from sklearn.linear_model import LogisticRegression\n",
    "backend = Aer.get_backend('statevector_simulator')"
   ]
  },
  {
   "cell_type": "code",
   "execution_count": null,
   "id": "cc6d01a4",
   "metadata": {},
   "outputs": [],
   "source": [
    "def input_state(i):\n",
    "    if i%2==0:\n",
    "        return np.array([1,0], dtype=complex)\n",
    "    elif i%2==1:\n",
    "        return np.array([0,1], dtype=complex)\n",
    "    else:\n",
    "        print('FAIL')"
   ]
  },
  {
   "cell_type": "code",
   "execution_count": null,
   "id": "b0d1c7de",
   "metadata": {},
   "outputs": [],
   "source": [
    "n_qubits = 4\n",
    "n_steps = 80\n",
    "shots = 10000\n",
    "op = random_unitary(2**n_qubits, )\n",
    "\n"
   ]
  },
  {
   "cell_type": "code",
   "execution_count": null,
   "id": "958cff6a",
   "metadata": {},
   "outputs": [],
   "source": [
    "n_steps = 120"
   ]
  },
  {
   "cell_type": "code",
   "execution_count": null,
   "id": "20528ceb",
   "metadata": {},
   "outputs": [],
   "source": [
    "target = np.argmax(np.array([input_state(i) for i in range(n_steps)]), axis=1)\n",
    "\n",
    "circ = QuantumCircuit(n_qubits, n_steps)\n",
    "for i in range(n_qubits):\n",
    "    circ.h(i)\n",
    "for i in range(n_steps):\n",
    "    circ.append(op, [i for i in range(n_qubits)])\n",
    "    circ.measure(0,i)\n",
    "    circ.initialize(input_state(i), 0)\n",
    "# circ.draw('mpl')"
   ]
  },
  {
   "cell_type": "code",
   "execution_count": null,
   "id": "94f0cbf9",
   "metadata": {},
   "outputs": [],
   "source": [
    "simulator = Aer.get_backend('aer_simulator_statevector')\n",
    "circ = transpile(circ, simulator)\n",
    "result = simulator.run(circ, shots=shots, memory=True).result()"
   ]
  },
  {
   "cell_type": "code",
   "execution_count": null,
   "id": "d1c50965",
   "metadata": {},
   "outputs": [],
   "source": [
    "counts = result.get_memory()"
   ]
  },
  {
   "cell_type": "code",
   "execution_count": null,
   "id": "c81e5c28",
   "metadata": {},
   "outputs": [],
   "source": [
    "# counts"
   ]
  },
  {
   "cell_type": "code",
   "execution_count": null,
   "id": "f541162a",
   "metadata": {},
   "outputs": [],
   "source": [
    "res = np.zeros((shots, n_steps))\n",
    "for i, c in enumerate(counts):\n",
    "    for j in range(n_steps):\n",
    "        res[i,j] = float(c[j])\n",
    "mean = np.mean(res, axis=0)"
   ]
  },
  {
   "cell_type": "code",
   "execution_count": null,
   "id": "6925a718",
   "metadata": {},
   "outputs": [],
   "source": [
    "x = mean#5*(mean-np.mean(mean)) + np.mean(mean)\n",
    "# x = 2 * mean"
   ]
  },
  {
   "cell_type": "code",
   "execution_count": null,
   "id": "4a90063d",
   "metadata": {},
   "outputs": [],
   "source": [
    "import matplotlib.pyplot as plt\n",
    "from sklearn.neighbors import KernelDensity\n",
    "\n",
    "plt.figure()\n",
    "for t in np.unique(target):\n",
    "    mask = t==target\n",
    "    plt.plot(np.arange(n_steps)[mask], x[mask], marker='o', lw=0)\n",
    "plt.ylim(-0.1, 1.1)\n",
    "plt.show()\n",
    "\n",
    "x_plot = np.linspace(-0.5, 1.5, 10000, endpoint=True)\n",
    "\n",
    "plt.figure()\n",
    "for i, t in enumerate(np.unique(target)):\n",
    "    color = 'C'+str(i)\n",
    "    mask = t==target\n",
    "    plt.hist(x[mask], density=True, bins=np.linspace(-0.1, 1.1, 100, endpoint=True),\n",
    "             histtype='step', color=color)\n",
    "    kde = KernelDensity(bandwidth=1.5e-2, kernel='gaussian')\n",
    "    kde.fit(x[mask].reshape(-1, 1))\n",
    "    logprob = kde.score_samples(x_plot.reshape(-1, 1))\n",
    "    plt.fill_between(x_plot, np.exp(logprob), alpha=0.5, color=color)\n",
    "    \n",
    "plt.xlim(-0.1, 1.1)\n",
    "plt.show()"
   ]
  },
  {
   "cell_type": "code",
   "execution_count": null,
   "id": "1d2a3a7a",
   "metadata": {},
   "outputs": [],
   "source": [
    "X = x.reshape(-1, 1)\n",
    "y = target\n",
    "\n",
    "from sklearn.model_selection import train_test_split\n",
    "\n",
    "X_train, X_test, y_train, y_test = train_test_split(X, y, test_size=0.33, random_state=42)"
   ]
  },
  {
   "cell_type": "code",
   "execution_count": null,
   "id": "969ad67c",
   "metadata": {},
   "outputs": [],
   "source": [
    "from sklearn.svm import SVC\n",
    "from sklearn.preprocessing import StandardScaler\n",
    "from sklearn.pipeline import make_pipeline\n",
    "\n",
    "\n",
    "clf = make_pipeline(StandardScaler(), SVC(gamma='auto'))\n",
    "clf.fit(X, y)\n",
    "\n",
    "clf.score(X_test, y_test)"
   ]
  },
  {
   "cell_type": "code",
   "execution_count": null,
   "id": "3a2e0077",
   "metadata": {},
   "outputs": [],
   "source": []
  },
  {
   "cell_type": "code",
   "execution_count": null,
   "id": "006f2436",
   "metadata": {},
   "outputs": [],
   "source": []
  },
  {
   "cell_type": "code",
   "execution_count": null,
   "id": "bb6eb8ad",
   "metadata": {},
   "outputs": [],
   "source": []
  },
  {
   "cell_type": "code",
   "execution_count": null,
   "id": "47dc1ff8",
   "metadata": {},
   "outputs": [],
   "source": []
  },
  {
   "cell_type": "code",
   "execution_count": null,
   "id": "2258d88a",
   "metadata": {},
   "outputs": [],
   "source": []
  }
 ],
 "metadata": {
  "kernelspec": {
   "display_name": "Python 3 (ipykernel)",
   "language": "python",
   "name": "python3"
  },
  "language_info": {
   "codemirror_mode": {
    "name": "ipython",
    "version": 3
   },
   "file_extension": ".py",
   "mimetype": "text/x-python",
   "name": "python",
   "nbconvert_exporter": "python",
   "pygments_lexer": "ipython3",
   "version": "3.11.0"
  }
 },
 "nbformat": 4,
 "nbformat_minor": 5
}

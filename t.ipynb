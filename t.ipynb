{
 "cells": [
  {
   "cell_type": "code",
   "execution_count": 20,
   "metadata": {},
   "outputs": [
    {
     "name": "stdout",
     "output_type": "stream",
     "text": [
      "[[0]\n",
      " [2]]\n"
     ]
    }
   ],
   "source": [
    "import numpy as np\n",
    "start = \"0101\"\n",
    "\n",
    "def func(string):\n",
    "    indeces = np.random.randint(low=0, high=len(string), size=2)\n",
    "    arr = np.array(list(string))\n",
    "\n",
    "    l = np.argwhere(arr == \"0\")\n",
    "    r = np.argwhere(arr == \"1\")\n",
    "    if len(l) * len(r) == 0:\n",
    "        return\n",
    "\n",
    "    print(np.argwhere(arr==\"0\"))\n",
    "func(start)\n"
   ]
  }
 ],
 "metadata": {
  "kernelspec": {
   "display_name": "quantum",
   "language": "python",
   "name": "python3"
  },
  "language_info": {
   "codemirror_mode": {
    "name": "ipython",
    "version": 3
   },
   "file_extension": ".py",
   "mimetype": "text/x-python",
   "name": "python",
   "nbconvert_exporter": "python",
   "pygments_lexer": "ipython3",
   "version": "3.9.13"
  },
  "orig_nbformat": 4
 },
 "nbformat": 4,
 "nbformat_minor": 2
}

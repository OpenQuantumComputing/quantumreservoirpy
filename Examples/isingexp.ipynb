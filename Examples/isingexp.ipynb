{
 "cells": [
  {
   "cell_type": "code",
   "execution_count": 1,
   "metadata": {},
   "outputs": [],
   "source": [
    "import numpy as np\n",
    "import matplotlib.pyplot as plt\n",
    "from qreservoirpy import QReservoir, Layers, utilities\n",
    "\n",
    "from qiskit.extensions import HamiltonianGate\n",
    "\n",
    "from sklearn.model_selection import train_test_split\n",
    "from sklearn.svm import SVC\n",
    "from sklearn.linear_model import RidgeClassifier\n",
    "from sklearn.neighbors import KNeighborsClassifier\n",
    "from tqdm import tqdm\n",
    "\n",
    "models = np.array([\n",
    "    SVC(kernel=ker) for ker in ['linear', 'poly', 'rbf', 'sigmoid']\n",
    "] + [\n",
    "    RidgeClassifier(alpha=alph) for alph in np.linspace(0, 1e-3, 20)\n",
    "] + [\n",
    "    KNeighborsClassifier(n_neighbors=n) for n in range(1, 10)\n",
    "], dtype=object)\n",
    "\n",
    "\n"
   ]
  },
  {
   "cell_type": "code",
   "execution_count": 2,
   "metadata": {},
   "outputs": [],
   "source": [
    "\n",
    "\n",
    "\n",
    "n_qubits = 8\n",
    "SHOTS = 1000\n",
    "timeseries = [0, 1, 2, 1, 2] * 10\n",
    "encoder = {\n",
    "    0: '00',\n",
    "    1: '01',\n",
    "    2: '10',\n",
    "    3: '11'\n",
    "}\n",
    "\n",
    "H = utilities.random_ising_H(num_qubits=n_qubits, num_terms=160)\n",
    "\n",
    "placement = {\n",
    "    0: [0, 1],\n",
    "    1: [1, 2],\n",
    "    2: [2, 3],\n",
    "}\n",
    "\n",
    "\n",
    "\n",
    "def build_method(circuit, timestep, encoding, reservoir, pos):\n",
    "        circuit.measure(range(4))\n",
    "        # circuit.reset(range(4))\n",
    "        circuit.initialize(encoding[timestep], pos[timestep])\n",
    "        # circuit.initialize(encoding[timestep], [0, 1])\n",
    "        # circuit.initialize(encoding[timestep], [2, 3])\n",
    "        circuit.unitary(reservoir, circuit.qubits)\n",
    "\n",
    "\n",
    "tvals = np.linspace(0, 10, 100)\n"
   ]
  },
  {
   "cell_type": "code",
   "execution_count": 3,
   "metadata": {},
   "outputs": [
    {
     "name": "stderr",
     "output_type": "stream",
     "text": [
      "EXPERIMENT:   0%|          | 0/100 [00:00<?, ?it/s]"
     ]
    },
    {
     "name": "stderr",
     "output_type": "stream",
     "text": [
      "EXPERIMENT: 100%|██████████| 100/100 [2:24:30<00:00, 86.71s/it]  \n"
     ]
    }
   ],
   "source": [
    "\n",
    "experiment_results = []\n",
    "experiment_methods = []\n",
    "\n",
    "\n",
    "for exp_id in tqdm(range(len(tvals)), desc=\"EXPERIMENT\"):\n",
    "    T = tvals[exp_id]\n",
    "\n",
    "    UT = HamiltonianGate(H, T, label=\"UT\")\n",
    "\n",
    "    qres = QReservoir(qubits=n_qubits, layers=[\n",
    "        Layers.Reset(),\n",
    "        Layers.Timeseries(build_method=build_method,\n",
    "                        encoding = encoder,\n",
    "                        reservoir = UT,\n",
    "                        pos = placement)\n",
    "    ])\n",
    "\n",
    "    states = qres.run(\n",
    "        timeseries=timeseries,\n",
    "        shots=SHOTS,\n",
    "        disable_status_bar=True\n",
    "    )\n",
    "\n",
    "\n",
    "    WARMUP = 0.1 # 10%\n",
    "    warmup_idx = int(len(states) * WARMUP)\n",
    "\n",
    "    xstates = states[:-1][warmup_idx:]\n",
    "    target = timeseries[1:][warmup_idx:]\n",
    "\n",
    "    results = np.zeros(len(models))\n",
    "\n",
    "    N = 100\n",
    "    for _ in range(N):\n",
    "        X_train, X_test, y_train, y_test = train_test_split(xstates, target, test_size=1/3)\n",
    "        for i, model in enumerate(models):\n",
    "            model.fit(X_train, y_train)\n",
    "            score = model.score(X_test, y_test)\n",
    "            results[i] += score\n",
    "\n",
    "    results /= N\n",
    "\n",
    "    sorting = np.flip(np.argsort(results))\n",
    "\n",
    "    experiment_methods.append([models[sorting]])\n",
    "    experiment_results.append([results[sorting]])\n"
   ]
  },
  {
   "cell_type": "code",
   "execution_count": 17,
   "metadata": {},
   "outputs": [
    {
     "data": {
      "image/png": "[encoded data removed]",
      "text/plain": [
       "<Figure size 640x480 with 1 Axes>"
      ]
     },
     "metadata": {},
     "output_type": "display_data"
    }
   ],
   "source": [
    "# print(experiment_results)\n",
    "\n",
    "res = np.array(experiment_results).reshape((len(tvals), -1))\n",
    "exp = np.array(experiment_methods).reshape((len(experiment_methods), -1))\n",
    "# plt.plot(tvals, res[:, 0])\n",
    "# print(exp[:, 0])\n",
    "cmap = plt.get_cmap('jet', 3)\n",
    "for t, r, m in zip(tvals, res[:, 0], exp[:, 0]):\n",
    "    col = -1\n",
    "\n",
    "    if isinstance(m, RidgeClassifier):\n",
    "        col = 0\n",
    "    elif isinstance(m, SVC):\n",
    "        col = 1\n",
    "    elif isinstance(m, KNeighborsClassifier):\n",
    "        col = 2\n",
    "        \n",
    "    plt.scatter(t, r, color=cmap(col))\n",
    "\n"
   ]
  }
 ],
 "metadata": {
  "kernelspec": {
   "display_name": "quantum",
   "language": "python",
   "name": "python3"
  },
  "language_info": {
   "codemirror_mode": {
    "name": "ipython",
    "version": 3
   },
   "file_extension": ".py",
   "mimetype": "text/x-python",
   "name": "python",
   "nbconvert_exporter": "python",
   "pygments_lexer": "ipython3",
   "version": "3.9.13"
  },
  "orig_nbformat": 4
 },
 "nbformat": 4,
 "nbformat_minor": 2
}

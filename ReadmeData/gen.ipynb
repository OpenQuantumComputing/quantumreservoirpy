{
 "cells": [
  {
   "cell_type": "code",
   "execution_count": 1,
   "metadata": {},
   "outputs": [],
   "source": [
    "import numpy as np\n",
    "import matplotlib.pyplot as plt\n"
   ]
  },
  {
   "cell_type": "code",
   "execution_count": 5,
   "metadata": {},
   "outputs": [
    {
     "name": "stderr",
     "output_type": "stream",
     "text": [
      "c:\\users\\otkul\\sintef\\repo\\reservoircomputingexamples\\qreservoirpy\\qreservoirpy\\reservoirbase.py:38: UserWarning: Argument 'backend' must inherit from qiskits abstract 'Backend'. Using 'aer_simulator' instead\n",
      "  warnings.warn(\"Argument 'backend' must inherit from qiskits abstract 'Backend'. Using 'aer_simulator' instead\")\n"
     ]
    }
   ],
   "source": [
    "from qreservoirpy.reservoirs import Static\n",
    "class CustomRes(Static):\n",
    "    def before(self, circuit):\n",
    "        circuit.h(circuit.qubits)\n",
    "        circuit.barrier()\n",
    "\n",
    "    def during(self, circuit, timestep):\n",
    "        circuit.initialize(str(timestep), [0])\n",
    "        circuit.h(0)\n",
    "        circuit.cx(0, 1)\n",
    "\n",
    "    def after(self, circuit):\n",
    "        circuit.barrier()\n",
    "        circuit.measure_all()\n",
    "\n",
    "res = CustomRes(n_qubits=2)\n",
    "fig = res.circuit([0, 1]).draw('mpl')\n",
    "fig.savefig(\"Images/simple_static.jpg\", bbox_inches='tight')"
   ]
  },
  {
   "cell_type": "code",
   "execution_count": 3,
   "metadata": {},
   "outputs": [
    {
     "name": "stderr",
     "output_type": "stream",
     "text": [
      "Simulating:   0%|          | 0/1 [00:00<?, ?it/s]"
     ]
    },
    {
     "name": "stderr",
     "output_type": "stream",
     "text": [
      "Simulating: 100%|██████████| 1/1 [00:01<00:00,  1.78s/it]\n"
     ]
    }
   ],
   "source": [
    "from qreservoirpy import QReservoir, Layers\n",
    "def build_method(circuit, timestep):\n",
    "    circuit.barrier()\n",
    "    circuit.measure(circuit.qubits)\n",
    "    return circuit\n",
    "\n",
    "res = QReservoir(qubits=4, layers=[\n",
    "    Layers.H(),\n",
    "    Layers.Timeseries(build_method=build_method)\n",
    "])\n",
    "res.run([0, 1, 2])\n",
    "fig = res.circuit.draw('mpl')\n",
    "fig.savefig(\"Images/simple_timeseries.jpg\", bbox_inches='tight')"
   ]
  },
  {
   "cell_type": "code",
   "execution_count": 4,
   "metadata": {},
   "outputs": [
    {
     "name": "stderr",
     "output_type": "stream",
     "text": [
      "Simulating: 100%|██████████| 1/1 [00:01<00:00,  1.70s/it]\n"
     ]
    }
   ],
   "source": [
    "from qreservoirpy import QReservoir, Layers\n",
    "from qiskit.quantum_info import random_unitary\n",
    "\n",
    "def build_method(circuit, timestep, operators, encoder):\n",
    "    circuit.unitary(operators[timestep], circuit.qubits)\n",
    "    circuit.measure([0, 1])\n",
    "    circuit.initialize(encoder[timestep], [0, 1])\n",
    "    return circuit\n",
    "\n",
    "\n",
    "timeseries = [0, 1, 2]\n",
    "res = QReservoir(qubits=4, layers=[\n",
    "    Layers.H(),\n",
    "    Layers.Timeseries(build_method=build_method,\n",
    "        operators = {key : random_unitary(2**4) for key in timeseries}, \n",
    "        encoder = {\n",
    "            0: '00',\n",
    "            1: '01',\n",
    "            2: '10',\n",
    "            3: '11'\n",
    "        })\n",
    "])\n",
    "res.run(timeseries)\n",
    "fig = res.circuit.draw('mpl')\n",
    "fig.savefig(\"Images/adding_parameters.jpg\", bbox_inches='tight')"
   ]
  },
  {
   "cell_type": "code",
   "execution_count": 5,
   "metadata": {},
   "outputs": [
    {
     "name": "stderr",
     "output_type": "stream",
     "text": [
      "Simulating:   0%|          | 0/3 [00:00<?, ?it/s]"
     ]
    },
    {
     "name": "stderr",
     "output_type": "stream",
     "text": [
      "Simulating: 100%|██████████| 3/3 [00:01<00:00,  2.75it/s]\n"
     ]
    }
   ],
   "source": [
    "from qreservoirpy import QReservoir, Layers\n",
    "from qiskit.quantum_info import random_unitary\n",
    "\n",
    "def build_method(circuit, timestep, operator):\n",
    "    circuit.unitary(operator, circuit.qubits)\n",
    "    return circuit\n",
    "\n",
    "\n",
    "timeseries = [0, 1, 2]\n",
    "res = QReservoir(qubits=4, layers=[\n",
    "    Layers.H(),\n",
    "    Layers.Timeseries(\n",
    "        build_method=build_method, \n",
    "\n",
    "        operator = random_unitary(2**4)\n",
    "        ),\n",
    "    Layers.Measurement(range(4))\n",
    "])\n",
    "res.run(timeseries, incrementally=True)\n",
    "fig = res.circuit.draw('mpl')\n",
    "fig.savefig(\"Images/incrementally.jpg\", bbox_inches='tight')"
   ]
  },
  {
   "cell_type": "code",
   "execution_count": 6,
   "metadata": {},
   "outputs": [
    {
     "name": "stderr",
     "output_type": "stream",
     "text": [
      "Simulating: 100%|██████████| 3/3 [00:01<00:00,  1.53it/s]\n"
     ]
    }
   ],
   "source": [
    "from qreservoirpy import QReservoir, Layers\n",
    "from qiskit.quantum_info import random_unitary\n",
    "\n",
    "def analyze_fcn(sim_result):\n",
    "    return sim_result[-4:]\n",
    "\n",
    "def build_method(circuit, timestep, operator):\n",
    "    circuit.measure(0)\n",
    "    circuit.unitary(operator, circuit.qubits)\n",
    "    return circuit\n",
    "\n",
    "\n",
    "timeseries = [0, 1, 2]\n",
    "res = QReservoir(qubits=4, layers=[\n",
    "    Layers.H(),\n",
    "    Layers.Timeseries(\n",
    "        build_method=build_method, \n",
    "        operator = random_unitary(2**4),\n",
    "        ),\n",
    "    Layers.Measurement(range(4))\n",
    "], analyze_function=analyze_fcn)\n",
    "res.run(timeseries, incrementally=True)\n",
    "fig = res.circuit.draw('mpl')\n",
    "fig.savefig(\"Images/nonlinear_incrementally.jpg\", bbox_inches='tight')"
   ]
  }
 ],
 "metadata": {
  "kernelspec": {
   "display_name": "quantum",
   "language": "python",
   "name": "python3"
  },
  "language_info": {
   "codemirror_mode": {
    "name": "ipython",
    "version": 3
   },
   "file_extension": ".py",
   "mimetype": "text/x-python",
   "name": "python",
   "nbconvert_exporter": "python",
   "pygments_lexer": "ipython3",
   "version": "3.9.13"
  },
  "orig_nbformat": 4
 },
 "nbformat": 4,
 "nbformat_minor": 2
}

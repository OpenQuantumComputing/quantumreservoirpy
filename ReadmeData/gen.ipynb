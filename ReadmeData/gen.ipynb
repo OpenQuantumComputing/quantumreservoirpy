{
 "cells": [
  {
   "cell_type": "code",
   "execution_count": 1,
   "metadata": {},
   "outputs": [],
   "source": [
    "import numpy as np\n",
    "import matplotlib.pyplot as plt\n"
   ]
  },
  {
   "cell_type": "code",
   "execution_count": 2,
   "metadata": {},
   "outputs": [],
   "source": [
    "from qreservoirpy import QReservoir, Layers\n",
    "res = QReservoir(qubits=4, layers=[\n",
    "    Layers.H(),\n",
    "    Layers.Measurement(measure_qubits=[0, 1]),\n",
    "    Layers.Reset(),\n",
    "    Layers.Measurement(measure_qubits=[1, 2])\n",
    "])\n",
    "fig = res.circuit.draw('mpl')\n",
    "fig.savefig(\"Images/simple.jpg\", bbox_inches='tight')"
   ]
  },
  {
   "cell_type": "code",
   "execution_count": 3,
   "metadata": {},
   "outputs": [],
   "source": [
    "from qreservoirpy import QReservoir, Layers\n",
    "def build_method(circuit, timestep):\n",
    "    circuit.barrier()\n",
    "    circuit.measure(circuit.qubits)\n",
    "    return circuit\n",
    "\n",
    "res = QReservoir(qubits=4, layers=[\n",
    "    Layers.H(),\n",
    "    Layers.Timeseries(build_method=build_method)\n",
    "])\n",
    "res.run([0, 1, 2])\n",
    "fig = res.circuit.draw('mpl')\n",
    "fig.savefig(\"Images/simple_timeseries.jpg\", bbox_inches='tight')"
   ]
  },
  {
   "cell_type": "code",
   "execution_count": 4,
   "metadata": {},
   "outputs": [],
   "source": [
    "from qreservoirpy import QReservoir, Layers\n",
    "from qiskit.quantum_info import random_unitary\n",
    "\n",
    "def build_method(circuit, timestep, operators, encoder):\n",
    "    circuit.unitary(operators[timestep], circuit.qubits)\n",
    "    circuit.measure([0, 1])\n",
    "    circuit.initialize(encoder[timestep], [0, 1])\n",
    "    return circuit\n",
    "\n",
    "\n",
    "timeseries = [0, 1, 2]\n",
    "res = QReservoir(qubits=4, layers=[\n",
    "    Layers.H(),\n",
    "    Layers.Timeseries(build_method=build_method,\n",
    "        operators = {key : random_unitary(2**4) for key in timeseries}, \n",
    "        encoder = {\n",
    "            0: '00',\n",
    "            1: '01',\n",
    "            2: '10',\n",
    "            3: '11'\n",
    "        })\n",
    "])\n",
    "res.run(timeseries)\n",
    "fig = res.circuit.draw('mpl')\n",
    "fig.savefig(\"Images/adding_parameters.jpg\", bbox_inches='tight')"
   ]
  },
  {
   "cell_type": "code",
   "execution_count": 5,
   "metadata": {},
   "outputs": [],
   "source": [
    "from qreservoirpy import QReservoir, Layers\n",
    "from qiskit.quantum_info import random_unitary\n",
    "\n",
    "def build_method(circuit, timestep, operator):\n",
    "    circuit.unitary(operator, circuit.qubits)\n",
    "    return circuit\n",
    "\n",
    "\n",
    "timeseries = [0, 1, 2]\n",
    "res = QReservoir(qubits=4, layers=[\n",
    "    Layers.H(),\n",
    "    Layers.Timeseries(\n",
    "        build_method=build_method, \n",
    "        incrementally=True,\n",
    "        operator = random_unitary(2**4)\n",
    "        ),\n",
    "    Layers.Measurement(range(4))\n",
    "])\n",
    "res.run(timeseries)\n",
    "fig = res.circuit.draw('mpl')\n",
    "fig.savefig(\"Images/incrementally.jpg\", bbox_inches='tight')"
   ]
  },
  {
   "cell_type": "code",
   "execution_count": 8,
   "metadata": {},
   "outputs": [],
   "source": [
    "from qreservoirpy import QReservoir, Layers\n",
    "from qiskit.quantum_info import random_unitary\n",
    "\n",
    "def analyze_fcn(sim_result):\n",
    "    return sim_result[-4:]\n",
    "\n",
    "def build_method(circuit, timestep, operator):\n",
    "    circuit.measure(0)\n",
    "    circuit.unitary(operator, circuit.qubits)\n",
    "    return circuit\n",
    "\n",
    "\n",
    "timeseries = [0, 1, 2]\n",
    "res = QReservoir(qubits=4, layers=[\n",
    "    Layers.H(),\n",
    "    Layers.Timeseries(\n",
    "        build_method=build_method, \n",
    "        incrementally=True,\n",
    "        operator = random_unitary(2**4),\n",
    "        ),\n",
    "    Layers.Measurement(range(4))\n",
    "], analyze_function=analyze_fcn)\n",
    "res.run(timeseries)\n",
    "fig = res.circuit.draw('mpl')\n",
    "fig.savefig(\"Images/nonlinear_incrementally.jpg\", bbox_inches='tight')"
   ]
  }
 ],
 "metadata": {
  "kernelspec": {
   "display_name": "quantum",
   "language": "python",
   "name": "python3"
  },
  "language_info": {
   "codemirror_mode": {
    "name": "ipython",
    "version": 3
   },
   "file_extension": ".py",
   "mimetype": "text/x-python",
   "name": "python",
   "nbconvert_exporter": "python",
   "pygments_lexer": "ipython3",
   "version": "3.9.13"
  },
  "orig_nbformat": 4
 },
 "nbformat": 4,
 "nbformat_minor": 2
}

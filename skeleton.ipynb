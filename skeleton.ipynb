{
 "cells": [
  {
   "cell_type": "code",
   "execution_count": null,
   "metadata": {},
   "outputs": [],
   "source": [
    "import numpy as np\n",
    "import matplotlib.pyplot as plt\n",
    "from qreservoirpy import QReservoir, Layers, utilities"
   ]
  },
  {
   "cell_type": "markdown",
   "metadata": {},
   "source": [
    "## Initialization"
   ]
  },
  {
   "cell_type": "code",
   "execution_count": null,
   "metadata": {},
   "outputs": [],
   "source": [
    "n_qubits = 4\n",
    "SHOTS = 10000\n",
    "\n",
    "timeseries = []\n",
    "encoder = {} "
   ]
  },
  {
   "cell_type": "code",
   "execution_count": null,
   "metadata": {},
   "outputs": [],
   "source": [
    "def analyze_func(res):\n",
    "    pass\n",
    "\n",
    "def build_method(circuit, timestep, encoding):\n",
    "    pass\n",
    "\n",
    "qres = QReservoir(qubits=n_qubits, layers=[\n",
    "    Layers.Reset(),\n",
    "    Layers.Timeseries(build_method=build_method, encoding = encoder)\n",
    "], analyze_function=analyze_func)"
   ]
  },
  {
   "cell_type": "markdown",
   "metadata": {},
   "source": [
    "## Running"
   ]
  },
  {
   "cell_type": "code",
   "execution_count": null,
   "metadata": {},
   "outputs": [],
   "source": [
    "states = qres.run(\n",
    "    timeseries=timeseries, \n",
    "    shots=SHOTS\n",
    ")"
   ]
  },
  {
   "cell_type": "code",
   "execution_count": null,
   "metadata": {},
   "outputs": [],
   "source": [
    "WARMUP = 0.1 # 10%\n",
    "warmup_idx = int(len(states) * WARMUP)\n",
    "\n",
    "xstates = states[:-1][warmup_idx:]\n",
    "target = timeseries[1:][warmup_idx:]\n",
    "utilities.result_plotter(xstates, target)"
   ]
  },
  {
   "cell_type": "markdown",
   "metadata": {},
   "source": [
    "## Training"
   ]
  },
  {
   "cell_type": "code",
   "execution_count": null,
   "metadata": {},
   "outputs": [],
   "source": [
    "from sklearn.model_selection import train_test_split\n",
    "from sklearn.pipeline import make_pipeline\n",
    "from sklearn.preprocessing import StandardScaler as Preprocessor\n",
    "\n",
    "from sklearn.linear_model import RidgeClassifier as Classifier\n",
    "\n",
    "X_train, X_test, y_train, y_test = train_test_split(xstates, target, test_size=0.33)"
   ]
  },
  {
   "cell_type": "code",
   "execution_count": null,
   "metadata": {},
   "outputs": [],
   "source": [
    "model = make_pipeline(Preprocessor(), Classifier())\n",
    "model.fit(X_train, y_train)\n",
    "score = model.score(X_test, y_test)\n",
    "print(f'Score of model: {score}')"
   ]
  },
  {
   "cell_type": "markdown",
   "metadata": {},
   "source": [
    "## Predicting"
   ]
  },
  {
   "cell_type": "code",
   "execution_count": null,
   "metadata": {},
   "outputs": [],
   "source": [
    "predict_from = timeseries[-10:]\n",
    "num_preds = 20\n",
    "\n",
    "\n",
    "pred_states, preds = qres.predict(\n",
    "    num_pred=num_preds,\n",
    "    model=model,\n",
    "    shots=SHOTS,\n",
    "    from_series=predict_from\n",
    ")\n"
   ]
  },
  {
   "cell_type": "code",
   "execution_count": null,
   "metadata": {},
   "outputs": [],
   "source": [
    "true_values = []\n",
    "\n",
    "pred_plot = np.append(predict_from, preds)\n",
    "true_plot = np.append(predict_from, true_values)\n",
    "\n",
    "plt.plot(pred_plot, label=\"Predictions\")\n",
    "plt.plot(true_plot, label=\"True timeseries\")\n",
    "plt.legend()"
   ]
  }
 ],
 "metadata": {
  "kernelspec": {
   "display_name": "quantum",
   "language": "python",
   "name": "python3"
  },
  "language_info": {
   "codemirror_mode": {
    "name": "ipython",
    "version": 3
   },
   "file_extension": ".py",
   "mimetype": "text/x-python",
   "name": "python",
   "nbconvert_exporter": "python",
   "pygments_lexer": "ipython3",
   "version": "3.9.13"
  },
  "orig_nbformat": 4
 },
 "nbformat": 4,
 "nbformat_minor": 2
}
